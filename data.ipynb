{
  "nbformat": 4,
  "nbformat_minor": 0,
  "metadata": {
    "colab": {
      "name": "data.ipynb",
      "provenance": [],
      "collapsed_sections": [],
      "authorship_tag": "ABX9TyPDxOBG2oC54K8nILYP0npn",
      "include_colab_link": true
    },
    "kernelspec": {
      "name": "python3",
      "display_name": "Python 3"
    },
    "language_info": {
      "name": "python"
    }
  },
  "cells": [
    {
      "cell_type": "markdown",
      "metadata": {
        "id": "view-in-github",
        "colab_type": "text"
      },
      "source": [
        "<a href=\"https://colab.research.google.com/github/aalexakos/thesis-smart-grids/blob/alex/data.ipynb\" target=\"_parent\"><img src=\"https://colab.research.google.com/assets/colab-badge.svg\" alt=\"Open In Colab\"/></a>"
      ]
    },
    {
      "cell_type": "code",
      "metadata": {
        "id": "fbChay8OWBXX"
      },
      "source": [
        "import pandas as pd \n",
        "import json as jsn\n",
        "import matplotlib.pyplot as plt \n",
        "import numpy as np\n",
        "\n",
        "df=pd.read_csv('20210310', sep= ';')\n",
        "\n"
      ],
      "execution_count": 21,
      "outputs": []
    },
    {
      "cell_type": "code",
      "metadata": {
        "id": "HspozkM5cq0X"
      },
      "source": [
        ""
      ],
      "execution_count": null,
      "outputs": []
    },
    {
      "cell_type": "code",
      "metadata": {
        "id": "rcp7fhtrS1rR"
      },
      "source": [
        "data={}\n",
        "\n",
        "columns = []\n",
        "for col in df.columns:\n",
        "  columns.append(col)\n",
        "\n",
        "plotable =[]\n"
      ],
      "execution_count": 26,
      "outputs": []
    },
    {
      "cell_type": "code",
      "metadata": {
        "colab": {
          "base_uri": "https://localhost:8080/"
        },
        "id": "9bWzeCHEJPN7",
        "outputId": "4095befd-aef6-42d2-8bef-a9e43520576e"
      },
      "source": [
        "for index in columns:\n",
        "  data.clear\n",
        "  for row in df[index]:\n",
        "    if(row in data.keys()):\n",
        "      data[row]= data[row] + 1\n",
        "    else:\n",
        "      data[row]=1\n",
        "  plotable.append(data)\n",
        "#print (jsn.dumps(plotable,sort_keys=True, indent=4))\n",
        "print(plotable[0], plotable[-1])"
      ],
      "execution_count": 32,
      "outputs": [
        {
          "output_type": "stream",
          "text": [
            "IOPub data rate exceeded.\n",
            "The notebook server will temporarily stop sending output\n",
            "to the client in order to avoid crashing it.\n",
            "To change this limit, set the config variable\n",
            "`--NotebookApp.iopub_data_rate_limit`.\n",
            "\n",
            "Current values:\n",
            "NotebookApp.iopub_data_rate_limit=1000000.0 (bytes/sec)\n",
            "NotebookApp.rate_limit_window=3.0 (secs)\n",
            "\n"
          ],
          "name": "stderr"
        }
      ]
    },
    {
      "cell_type": "code",
      "metadata": {
        "id": "FK9w64fQSs9b"
      },
      "source": [
        ""
      ],
      "execution_count": null,
      "outputs": []
    }
  ]
}