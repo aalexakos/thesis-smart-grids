{
  "nbformat": 4,
  "nbformat_minor": 0,
  "metadata": {
    "colab": {
      "name": "random_forest_simpler.ipynb",
      "provenance": [],
      "collapsed_sections": [],
      "mount_file_id": "1LxAZsDhF2KH5ERIS5pCVKRgb9lKZUJBa",
      "authorship_tag": "ABX9TyMl3gJPNy0tCujIdv0yzImD",
      "include_colab_link": true
    },
    "kernelspec": {
      "name": "python3",
      "display_name": "Python 3"
    },
    "language_info": {
      "name": "python"
    }
  },
  "cells": [
    {
      "cell_type": "markdown",
      "metadata": {
        "id": "view-in-github",
        "colab_type": "text"
      },
      "source": [
        "<a href=\"https://colab.research.google.com/github/aalexakos/thesis-smart-grids/blob/main/random_forest_simpler.ipynb\" target=\"_parent\"><img src=\"https://colab.research.google.com/assets/colab-badge.svg\" alt=\"Open In Colab\"/></a>"
      ]
    },
    {
      "cell_type": "code",
      "metadata": {
        "colab": {
          "base_uri": "https://localhost:8080/"
        },
        "id": "voDmJbFRW-Gb",
        "outputId": "d83b1d28-07d5-4bbd-bd34-cb976154e3d3"
      },
      "source": [
        "import pandas as pd\n",
        "import datetime\n",
        "import time\n",
        "import numpy as np\n",
        "from ast import literal_eval\n",
        "from sklearn.metrics import *\n",
        "from google.colab import drive\n",
        "import matplotlib.pyplot as plt\n",
        "drive.mount('/content/drive/')\n",
        "\n",
        "data_location = '/content/drive/MyDrive/alexakos-thesis/'\n",
        "\n",
        "csv=(f'{data_location}datasets/monthly_data.csv') \n",
        "df=pd.read_csv(csv)\n",
        "df['datetime'] = pd.to_datetime(df['datetime'], errors='coerce')\n",
        "df['hour']=df['datetime'].dt.hour.reset_index(drop=True)\n",
        "df['weatherCode'] = df['weatherCode'].astype(int)\n",
        "df.drop(df[df.hour == 18].index, inplace=True)\n",
        "# df.drop(df[df.hour == 17].index, inplace=True)\n",
        "# df.drop(df[df.hour == 16].index, inplace=True)"
      ],
      "execution_count": null,
      "outputs": [
        {
          "output_type": "stream",
          "name": "stdout",
          "text": [
            "Drive already mounted at /content/drive/; to attempt to forcibly remount, call drive.mount(\"/content/drive/\", force_remount=True).\n"
          ]
        }
      ]
    },
    {
      "cell_type": "code",
      "metadata": {
        "colab": {
          "base_uri": "https://localhost:8080/",
          "height": 419
        },
        "id": "X1-5NcLuYF3R",
        "outputId": "6f6b08fd-7668-4710-ef33-1d09f1d795e6"
      },
      "source": [
        "data=df.dropna().reset_index(drop=True).drop(columns=['pySolar','p_solar_horizontal','horizontal_avg','modular_avg','sensor_avg','datetime','openweather_modular','climacell_modular','openweathermap','dni','dhi'])\n",
        "data"
      ],
      "execution_count": null,
      "outputs": [
        {
          "output_type": "execute_result",
          "data": {
            "text/html": [
              "<div>\n",
              "<style scoped>\n",
              "    .dataframe tbody tr th:only-of-type {\n",
              "        vertical-align: middle;\n",
              "    }\n",
              "\n",
              "    .dataframe tbody tr th {\n",
              "        vertical-align: top;\n",
              "    }\n",
              "\n",
              "    .dataframe thead th {\n",
              "        text-align: right;\n",
              "    }\n",
              "</style>\n",
              "<table border=\"1\" class=\"dataframe\">\n",
              "  <thead>\n",
              "    <tr style=\"text-align: right;\">\n",
              "      <th></th>\n",
              "      <th>active_power</th>\n",
              "      <th>timestamp</th>\n",
              "      <th>climacell</th>\n",
              "      <th>temp_air</th>\n",
              "      <th>windSpeed</th>\n",
              "      <th>weatherCode</th>\n",
              "      <th>altidute</th>\n",
              "      <th>hour</th>\n",
              "    </tr>\n",
              "  </thead>\n",
              "  <tbody>\n",
              "    <tr>\n",
              "      <th>0</th>\n",
              "      <td>1089.745098</td>\n",
              "      <td>1.622524e+09</td>\n",
              "      <td>130.54</td>\n",
              "      <td>15.40</td>\n",
              "      <td>1.38</td>\n",
              "      <td>1101</td>\n",
              "      <td>18.692675</td>\n",
              "      <td>5</td>\n",
              "    </tr>\n",
              "    <tr>\n",
              "      <th>1</th>\n",
              "      <td>2091.360000</td>\n",
              "      <td>1.622527e+09</td>\n",
              "      <td>307.79</td>\n",
              "      <td>17.40</td>\n",
              "      <td>0.78</td>\n",
              "      <td>1101</td>\n",
              "      <td>30.147389</td>\n",
              "      <td>6</td>\n",
              "    </tr>\n",
              "    <tr>\n",
              "      <th>2</th>\n",
              "      <td>2893.392157</td>\n",
              "      <td>1.622531e+09</td>\n",
              "      <td>523.31</td>\n",
              "      <td>18.76</td>\n",
              "      <td>1.27</td>\n",
              "      <td>1100</td>\n",
              "      <td>41.766524</td>\n",
              "      <td>7</td>\n",
              "    </tr>\n",
              "    <tr>\n",
              "      <th>3</th>\n",
              "      <td>3492.411765</td>\n",
              "      <td>1.622534e+09</td>\n",
              "      <td>710.12</td>\n",
              "      <td>20.08</td>\n",
              "      <td>2.41</td>\n",
              "      <td>1100</td>\n",
              "      <td>53.208948</td>\n",
              "      <td>8</td>\n",
              "    </tr>\n",
              "    <tr>\n",
              "      <th>4</th>\n",
              "      <td>3834.920000</td>\n",
              "      <td>1.622538e+09</td>\n",
              "      <td>799.27</td>\n",
              "      <td>20.76</td>\n",
              "      <td>3.62</td>\n",
              "      <td>1100</td>\n",
              "      <td>63.792161</td>\n",
              "      <td>9</td>\n",
              "    </tr>\n",
              "    <tr>\n",
              "      <th>...</th>\n",
              "      <td>...</td>\n",
              "      <td>...</td>\n",
              "      <td>...</td>\n",
              "      <td>...</td>\n",
              "      <td>...</td>\n",
              "      <td>...</td>\n",
              "      <td>...</td>\n",
              "      <td>...</td>\n",
              "    </tr>\n",
              "    <tr>\n",
              "      <th>399</th>\n",
              "      <td>2792.366667</td>\n",
              "      <td>1.625054e+09</td>\n",
              "      <td>932.05</td>\n",
              "      <td>38.40</td>\n",
              "      <td>5.50</td>\n",
              "      <td>1000</td>\n",
              "      <td>66.622376</td>\n",
              "      <td>12</td>\n",
              "    </tr>\n",
              "    <tr>\n",
              "      <th>400</th>\n",
              "      <td>2335.633333</td>\n",
              "      <td>1.625058e+09</td>\n",
              "      <td>847.44</td>\n",
              "      <td>36.20</td>\n",
              "      <td>3.78</td>\n",
              "      <td>1001</td>\n",
              "      <td>56.261743</td>\n",
              "      <td>13</td>\n",
              "    </tr>\n",
              "    <tr>\n",
              "      <th>401</th>\n",
              "      <td>1419.206897</td>\n",
              "      <td>1.625062e+09</td>\n",
              "      <td>694.83</td>\n",
              "      <td>34.51</td>\n",
              "      <td>3.15</td>\n",
              "      <td>1000</td>\n",
              "      <td>44.871977</td>\n",
              "      <td>14</td>\n",
              "    </tr>\n",
              "    <tr>\n",
              "      <th>402</th>\n",
              "      <td>781.466667</td>\n",
              "      <td>1.625065e+09</td>\n",
              "      <td>556.07</td>\n",
              "      <td>33.26</td>\n",
              "      <td>2.32</td>\n",
              "      <td>1000</td>\n",
              "      <td>33.253899</td>\n",
              "      <td>15</td>\n",
              "    </tr>\n",
              "    <tr>\n",
              "      <th>403</th>\n",
              "      <td>536.176471</td>\n",
              "      <td>1.625069e+09</td>\n",
              "      <td>347.42</td>\n",
              "      <td>32.35</td>\n",
              "      <td>1.63</td>\n",
              "      <td>1001</td>\n",
              "      <td>21.767974</td>\n",
              "      <td>16</td>\n",
              "    </tr>\n",
              "  </tbody>\n",
              "</table>\n",
              "<p>404 rows × 8 columns</p>\n",
              "</div>"
            ],
            "text/plain": [
              "     active_power     timestamp  climacell  ...  weatherCode   altidute  hour\n",
              "0     1089.745098  1.622524e+09     130.54  ...         1101  18.692675     5\n",
              "1     2091.360000  1.622527e+09     307.79  ...         1101  30.147389     6\n",
              "2     2893.392157  1.622531e+09     523.31  ...         1100  41.766524     7\n",
              "3     3492.411765  1.622534e+09     710.12  ...         1100  53.208948     8\n",
              "4     3834.920000  1.622538e+09     799.27  ...         1100  63.792161     9\n",
              "..            ...           ...        ...  ...          ...        ...   ...\n",
              "399   2792.366667  1.625054e+09     932.05  ...         1000  66.622376    12\n",
              "400   2335.633333  1.625058e+09     847.44  ...         1001  56.261743    13\n",
              "401   1419.206897  1.625062e+09     694.83  ...         1000  44.871977    14\n",
              "402    781.466667  1.625065e+09     556.07  ...         1000  33.253899    15\n",
              "403    536.176471  1.625069e+09     347.42  ...         1001  21.767974    16\n",
              "\n",
              "[404 rows x 8 columns]"
            ]
          },
          "metadata": {},
          "execution_count": 2
        }
      ]
    },
    {
      "cell_type": "code",
      "metadata": {
        "id": "jEGSG4xGEEAl",
        "colab": {
          "base_uri": "https://localhost:8080/"
        },
        "outputId": "1bdce506-0da4-414a-9910-2c7f1b136982"
      },
      "source": [
        "print(data.head(25).to_latex(caption=\"Ενδεικτικός πίνακας με δεδομένα για την εκπαίδευση του μοντελου μηχανικής μάθησης\",))\n"
      ],
      "execution_count": null,
      "outputs": [
        {
          "output_type": "stream",
          "name": "stdout",
          "text": [
            "\\begin{table}\n",
            "\\centering\n",
            "\\caption{Ενδεικτικός πίνακας με δεδομένα για την εκπαίδευση του μοντελου μηχανικής μάθησης}\n",
            "\\begin{tabular}{lrrrrrrrr}\n",
            "\\toprule\n",
            "{} &  active\\_power &     timestamp &  climacell &  temp\\_air &  windSpeed &  weatherCode &   altidute &  hour \\\\\n",
            "\\midrule\n",
            "0  &   1089.745098 &  1.622524e+09 &     130.54 &     15.40 &       1.38 &         1101 &  18.692675 &     5 \\\\\n",
            "1  &   2091.360000 &  1.622527e+09 &     307.79 &     17.40 &       0.78 &         1101 &  30.147389 &     6 \\\\\n",
            "2  &   2893.392157 &  1.622531e+09 &     523.31 &     18.76 &       1.27 &         1100 &  41.766524 &     7 \\\\\n",
            "3  &   3492.411765 &  1.622534e+09 &     710.12 &     20.08 &       2.41 &         1100 &  53.208948 &     8 \\\\\n",
            "4  &   3834.920000 &  1.622538e+09 &     799.27 &     20.76 &       3.62 &         1100 &  63.792161 &     9 \\\\\n",
            "5  &   3998.803922 &  1.622542e+09 &     803.31 &     21.40 &       4.38 &         1100 &  71.557286 &    10 \\\\\n",
            "6  &   3794.840000 &  1.622545e+09 &     865.61 &     22.41 &       5.16 &         1100 &  72.110052 &    11 \\\\\n",
            "7  &   3648.700000 &  1.622549e+09 &     762.93 &     22.35 &       6.13 &         1102 &  64.961554 &    12 \\\\\n",
            "8  &   3046.420000 &  1.622552e+09 &     718.67 &     23.37 &       6.17 &         1102 &  54.576421 &    13 \\\\\n",
            "9  &   2288.117647 &  1.622556e+09 &     570.31 &     22.73 &       6.45 &         1001 &  43.194381 &    14 \\\\\n",
            "10 &   1246.740000 &  1.622560e+09 &     450.68 &     22.60 &       6.34 &         1102 &  31.581450 &    15 \\\\\n",
            "11 &    368.000000 &  1.622563e+09 &     337.51 &     21.57 &       5.83 &         1100 &  20.099656 &    16 \\\\\n",
            "12 &     49.274510 &  1.622567e+09 &     144.77 &     19.99 &       4.35 &         1101 &   9.036783 &    17 \\\\\n",
            "13 &    275.280000 &  1.622606e+09 &      22.12 &     12.16 &       1.91 &         1001 &   7.749916 &     4 \\\\\n",
            "14 &   1122.235294 &  1.622610e+09 &     149.77 &     14.84 &       1.45 &         1001 &  18.739297 &     5 \\\\\n",
            "15 &   2021.176471 &  1.622614e+09 &     334.66 &     17.51 &       0.62 &         1001 &  30.189177 &     6 \\\\\n",
            "16 &   2664.900000 &  1.622617e+09 &     495.20 &     18.91 &       0.94 &         1001 &  41.807871 &     7 \\\\\n",
            "17 &   3474.803922 &  1.622621e+09 &     657.47 &     20.62 &       1.93 &         1001 &  53.256821 &     8 \\\\\n",
            "18 &   3330.428571 &  1.622624e+09 &     758.99 &     21.66 &       3.50 &         1101 &  63.859610 &     9 \\\\\n",
            "19 &   3539.901961 &  1.622628e+09 &     836.58 &     22.88 &       3.41 &         1001 &  71.665160 &    10 \\\\\n",
            "20 &   3806.140000 &  1.622632e+09 &     876.78 &     23.69 &       3.75 &         1001 &  72.244602 &    11 \\\\\n",
            "21 &   3604.176471 &  1.622635e+09 &     786.42 &     23.35 &       4.62 &         1001 &  65.081614 &    12 \\\\\n",
            "22 &   2988.857143 &  1.622639e+09 &     653.07 &     22.88 &       4.56 &         1001 &  54.683369 &    13 \\\\\n",
            "23 &   2338.906250 &  1.622642e+09 &     625.84 &     22.29 &       4.53 &         1001 &  43.295994 &    14 \\\\\n",
            "24 &      0.000000 &  1.622646e+09 &     398.54 &     21.40 &       3.26 &         1001 &  31.682647 &    15 \\\\\n",
            "\\bottomrule\n",
            "\\end{tabular}\n",
            "\\end{table}\n",
            "\n"
          ]
        }
      ]
    },
    {
      "cell_type": "code",
      "metadata": {
        "id": "RxYjD6ekgaq-"
      },
      "source": [
        "# Split the data into training and testing sets\n",
        "features=data.drop(['active_power'], axis='columns')\n",
        "\n",
        "features_with_cols = features \n",
        "# Labels are the values we want to predict\n",
        "labels=np.array(data.active_power)\n",
        "\n",
        "# Saving feature names for later use\n",
        "# feature_list = list(features.columns)\n",
        "\n",
        "# Convert to numpy array\n",
        "# features = np.array(features)"
      ],
      "execution_count": null,
      "outputs": []
    },
    {
      "cell_type": "code",
      "metadata": {
        "colab": {
          "base_uri": "https://localhost:8080/"
        },
        "id": "ycDT7OKLaiBf",
        "outputId": "e2e00de1-8a20-497c-b6f7-27bd5f9f4a6c"
      },
      "source": [
        "# # One-hot encode the data using pandas get_dummies\n",
        "# one_hot = pd.get_dummies(features['weatherCode'])\n",
        "\n",
        "# features.drop('weatherCode', axis=1, inplace =True)\n",
        "\n",
        "# features = features.join(one_hot)\n",
        "\n",
        "# Saving feature names for later use\n",
        "feature_list = list(features.columns)\n",
        "\n",
        "features = np.array(features)\n",
        "\n",
        "# Display the first 5 rows of the last 12 columns\n",
        "features"
      ],
      "execution_count": null,
      "outputs": [
        {
          "output_type": "execute_result",
          "data": {
            "text/plain": [
              "array([[1.62252360e+09, 1.30540000e+02, 1.54000000e+01, ...,\n",
              "        1.10100000e+03, 1.86926754e+01, 5.00000000e+00],\n",
              "       [1.62252720e+09, 3.07790000e+02, 1.74000000e+01, ...,\n",
              "        1.10100000e+03, 3.01473890e+01, 6.00000000e+00],\n",
              "       [1.62253080e+09, 5.23310000e+02, 1.87600000e+01, ...,\n",
              "        1.10000000e+03, 4.17665239e+01, 7.00000000e+00],\n",
              "       ...,\n",
              "       [1.62506160e+09, 6.94830000e+02, 3.45100000e+01, ...,\n",
              "        1.00000000e+03, 4.48719766e+01, 1.40000000e+01],\n",
              "       [1.62506520e+09, 5.56070000e+02, 3.32600000e+01, ...,\n",
              "        1.00000000e+03, 3.32538988e+01, 1.50000000e+01],\n",
              "       [1.62506880e+09, 3.47420000e+02, 3.23500000e+01, ...,\n",
              "        1.00100000e+03, 2.17679741e+01, 1.60000000e+01]])"
            ]
          },
          "metadata": {},
          "execution_count": 5
        }
      ]
    },
    {
      "cell_type": "code",
      "metadata": {
        "id": "UDeQxh2XePMM"
      },
      "source": [
        "# Using Skicit-learn to split data into training and testing sets\n",
        "from sklearn.model_selection import train_test_split\n",
        "train_features, test_features, train_labels, test_labels = train_test_split(features, labels, test_size = 0.3, random_state = 30)"
      ],
      "execution_count": null,
      "outputs": []
    },
    {
      "cell_type": "code",
      "metadata": {
        "colab": {
          "base_uri": "https://localhost:8080/"
        },
        "id": "_zzXv-qAeZPh",
        "outputId": "1b758534-b8e3-44c9-92b5-049989a433cc"
      },
      "source": [
        "print('Training Features Shape:', train_features.shape)\n",
        "print('Training Labels Shape:', train_labels.shape)\n",
        "print('Testing Features Shape:', test_features.shape)\n",
        "print('Testing Labels Shape:', test_labels.shape)"
      ],
      "execution_count": null,
      "outputs": [
        {
          "output_type": "stream",
          "name": "stdout",
          "text": [
            "Training Features Shape: (282, 7)\n",
            "Training Labels Shape: (282,)\n",
            "Testing Features Shape: (122, 7)\n",
            "Testing Labels Shape: (122,)\n"
          ]
        }
      ]
    },
    {
      "cell_type": "code",
      "metadata": {
        "id": "qco0Er6hg9kL",
        "colab": {
          "base_uri": "https://localhost:8080/"
        },
        "outputId": "b6d2834b-db70-4a93-ae34-ea27a6842842"
      },
      "source": [
        "from sklearn.ensemble import RandomForestRegressor\n",
        "rf = RandomForestRegressor(n_estimators=1000, random_state=40)\n",
        "rf.fit(train_features, train_labels)"
      ],
      "execution_count": null,
      "outputs": [
        {
          "output_type": "execute_result",
          "data": {
            "text/plain": [
              "RandomForestRegressor(bootstrap=True, ccp_alpha=0.0, criterion='mse',\n",
              "                      max_depth=None, max_features='auto', max_leaf_nodes=None,\n",
              "                      max_samples=None, min_impurity_decrease=0.0,\n",
              "                      min_impurity_split=None, min_samples_leaf=1,\n",
              "                      min_samples_split=2, min_weight_fraction_leaf=0.0,\n",
              "                      n_estimators=1000, n_jobs=None, oob_score=False,\n",
              "                      random_state=40, verbose=0, warm_start=False)"
            ]
          },
          "metadata": {},
          "execution_count": 8
        }
      ]
    },
    {
      "cell_type": "code",
      "metadata": {
        "colab": {
          "base_uri": "https://localhost:8080/"
        },
        "id": "cUKLQJAXfd6p",
        "outputId": "9992c2ea-3f35-4b16-ea2b-e9d399808ae1"
      },
      "source": [
        "# Use the forest's predict method on the test data\n",
        "predictions = rf.predict(test_features)\n",
        "# Calculate the absolute errors\n",
        "errors = abs(predictions - test_labels)\n",
        "# Print out the mean absolute error (mae)\n",
        "print('Mean Absolute Error:', round(np.mean(errors), 2), 'degrees.')"
      ],
      "execution_count": null,
      "outputs": [
        {
          "output_type": "stream",
          "name": "stdout",
          "text": [
            "Mean Absolute Error: 215.87 degrees.\n"
          ]
        }
      ]
    },
    {
      "cell_type": "code",
      "metadata": {
        "id": "vlqu3k-nhgHY"
      },
      "source": [
        "# print(\"0s test labels: \",test_labels[test_labels==0].count())\n",
        "# print(\"0s errors: \",errors[errors==0].count())\n"
      ],
      "execution_count": null,
      "outputs": []
    },
    {
      "cell_type": "code",
      "metadata": {
        "id": "m8zBvMDRg_iY",
        "colab": {
          "base_uri": "https://localhost:8080/"
        },
        "outputId": "e8e06fcb-930b-4728-a45f-4e8f2a723dc6"
      },
      "source": [
        "rf.score(test_features, test_labels)"
      ],
      "execution_count": null,
      "outputs": [
        {
          "output_type": "execute_result",
          "data": {
            "text/plain": [
              "0.924424034573171"
            ]
          },
          "metadata": {},
          "execution_count": 11
        }
      ]
    },
    {
      "cell_type": "code",
      "metadata": {
        "id": "T5bM0C7FimgI"
      },
      "source": [
        "# Import tools needed for visualization\n",
        "from sklearn.tree import export_graphviz\n",
        "import pydot\n",
        "# Pull out one tree from the forest\n",
        "tree = rf.estimators_[5]\n",
        "# Import tools needed for visualization\n",
        "from sklearn.tree import export_graphviz\n",
        "import pydot\n",
        "# Pull out one tree from the forest\n",
        "tree = rf.estimators_[5]\n",
        "# Export the image to a dot file\n",
        "export_graphviz(tree, out_file = 'tree.dot', feature_names = feature_list, rounded = True, precision = 1)\n",
        "# Use dot file to create a graph\n",
        "(graph, ) = pydot.graph_from_dot_file('tree.dot')\n",
        "# Write graph to a png file\n",
        "graph.write_png('tree.png')"
      ],
      "execution_count": null,
      "outputs": []
    },
    {
      "cell_type": "code",
      "metadata": {
        "colab": {
          "base_uri": "https://localhost:8080/"
        },
        "id": "M0lJPXn2tPcm",
        "outputId": "0b025537-376e-49e6-aa1a-ac9e01d35eb2"
      },
      "source": [
        "# Get numerical feature importances\n",
        "importances = list(rf.feature_importances_)\n",
        "# List of tuples with variable and importance\n",
        "feature_importances = [(feature, round(importance, 2)) for feature, importance in zip(feature_list, importances)]\n",
        "# Sort the feature importances by most important first\n",
        "feature_importances = sorted(feature_importances, key = lambda x: x[1], reverse = True)\n",
        "# Print out the feature and importances \n",
        "[print('Variable: {:20} Importance: {}'.format(*pair)) for pair in feature_importances];"
      ],
      "execution_count": null,
      "outputs": [
        {
          "output_type": "stream",
          "name": "stdout",
          "text": [
            "Variable: altidute             Importance: 0.77\n",
            "Variable: climacell            Importance: 0.07\n",
            "Variable: hour                 Importance: 0.07\n",
            "Variable: timestamp            Importance: 0.02\n",
            "Variable: temp_air             Importance: 0.02\n",
            "Variable: windSpeed            Importance: 0.02\n",
            "Variable: weatherCode          Importance: 0.02\n"
          ]
        }
      ]
    },
    {
      "cell_type": "code",
      "metadata": {
        "colab": {
          "base_uri": "https://localhost:8080/",
          "height": 404
        },
        "id": "kl3JFK31tiIh",
        "outputId": "b0a66d0a-bf73-4c88-cdc9-b9da343f739e"
      },
      "source": [
        "# Import matplotlib for plotting and use magic command for Jupyter Notebooks\n",
        "import matplotlib.pyplot as plt\n",
        "%matplotlib inline\n",
        "# Set the style\n",
        "plt.style.use('fivethirtyeight')\n",
        "# list of x locations for plotting\n",
        "x_values = list(range(len(importances)))\n",
        "# Make a bar chart\n",
        "plt.bar(x_values, importances, orientation = 'vertical')\n",
        "# Tick labels for x axis\n",
        "plt.xticks(x_values, feature_list, rotation='vertical')\n",
        "# Axis labels and title\n",
        "plt.ylabel('Importance'); plt.xlabel('Variable'); plt.title('Variable Importances');"
      ],
      "execution_count": null,
      "outputs": [
        {
          "output_type": "display_data",
          "data": {
            "image/png": "[encoded data removed]",
            "text/plain": [
              "<Figure size 432x288 with 1 Axes>"
            ]
          },
          "metadata": {}
        }
      ]
    },
    {
      "cell_type": "code",
      "metadata": {
        "colab": {
          "base_uri": "https://localhost:8080/",
          "height": 419
        },
        "id": "DgXvzUkK2REm",
        "outputId": "9eabfd22-0535-4f0f-c102-e7b81415e7dc"
      },
      "source": [
        "df1=pd.DataFrame({'Actual':test_labels, 'Predicted':predictions})\n",
        "df1.sort_index(inplace=True)\n",
        "df1['datetime']=df.datetime\n",
        "df1.sort_index()\n",
        "df1"
      ],
      "execution_count": null,
      "outputs": [
        {
          "output_type": "execute_result",
          "data": {
            "text/html": [
              "<div>\n",
              "<style scoped>\n",
              "    .dataframe tbody tr th:only-of-type {\n",
              "        vertical-align: middle;\n",
              "    }\n",
              "\n",
              "    .dataframe tbody tr th {\n",
              "        vertical-align: top;\n",
              "    }\n",
              "\n",
              "    .dataframe thead th {\n",
              "        text-align: right;\n",
              "    }\n",
              "</style>\n",
              "<table border=\"1\" class=\"dataframe\">\n",
              "  <thead>\n",
              "    <tr style=\"text-align: right;\">\n",
              "      <th></th>\n",
              "      <th>Actual</th>\n",
              "      <th>Predicted</th>\n",
              "      <th>datetime</th>\n",
              "    </tr>\n",
              "  </thead>\n",
              "  <tbody>\n",
              "    <tr>\n",
              "      <th>0</th>\n",
              "      <td>3260.333333</td>\n",
              "      <td>3187.094059</td>\n",
              "      <td>2021-06-01 03:00:00</td>\n",
              "    </tr>\n",
              "    <tr>\n",
              "      <th>1</th>\n",
              "      <td>74.733333</td>\n",
              "      <td>56.432087</td>\n",
              "      <td>2021-06-01 04:00:00</td>\n",
              "    </tr>\n",
              "    <tr>\n",
              "      <th>2</th>\n",
              "      <td>3118.000000</td>\n",
              "      <td>2985.848358</td>\n",
              "      <td>2021-06-01 05:00:00</td>\n",
              "    </tr>\n",
              "    <tr>\n",
              "      <th>3</th>\n",
              "      <td>314.900000</td>\n",
              "      <td>312.337188</td>\n",
              "      <td>2021-06-01 06:00:00</td>\n",
              "    </tr>\n",
              "    <tr>\n",
              "      <th>4</th>\n",
              "      <td>3705.896552</td>\n",
              "      <td>3621.611040</td>\n",
              "      <td>2021-06-01 07:00:00</td>\n",
              "    </tr>\n",
              "    <tr>\n",
              "      <th>...</th>\n",
              "      <td>...</td>\n",
              "      <td>...</td>\n",
              "      <td>...</td>\n",
              "    </tr>\n",
              "    <tr>\n",
              "      <th>117</th>\n",
              "      <td>1796.066667</td>\n",
              "      <td>1735.881633</td>\n",
              "      <td>2021-06-06 00:00:00</td>\n",
              "    </tr>\n",
              "    <tr>\n",
              "      <th>118</th>\n",
              "      <td>3046.420000</td>\n",
              "      <td>2471.598781</td>\n",
              "      <td>2021-06-06 01:00:00</td>\n",
              "    </tr>\n",
              "    <tr>\n",
              "      <th>119</th>\n",
              "      <td>3321.718750</td>\n",
              "      <td>3380.050113</td>\n",
              "      <td>2021-06-06 02:00:00</td>\n",
              "    </tr>\n",
              "    <tr>\n",
              "      <th>120</th>\n",
              "      <td>3339.566667</td>\n",
              "      <td>3051.702370</td>\n",
              "      <td>2021-06-06 03:00:00</td>\n",
              "    </tr>\n",
              "    <tr>\n",
              "      <th>121</th>\n",
              "      <td>3178.724138</td>\n",
              "      <td>3157.909245</td>\n",
              "      <td>2021-06-06 04:00:00</td>\n",
              "    </tr>\n",
              "  </tbody>\n",
              "</table>\n",
              "<p>122 rows × 3 columns</p>\n",
              "</div>"
            ],
            "text/plain": [
              "          Actual    Predicted            datetime\n",
              "0    3260.333333  3187.094059 2021-06-01 03:00:00\n",
              "1      74.733333    56.432087 2021-06-01 04:00:00\n",
              "2    3118.000000  2985.848358 2021-06-01 05:00:00\n",
              "3     314.900000   312.337188 2021-06-01 06:00:00\n",
              "4    3705.896552  3621.611040 2021-06-01 07:00:00\n",
              "..           ...          ...                 ...\n",
              "117  1796.066667  1735.881633 2021-06-06 00:00:00\n",
              "118  3046.420000  2471.598781 2021-06-06 01:00:00\n",
              "119  3321.718750  3380.050113 2021-06-06 02:00:00\n",
              "120  3339.566667  3051.702370 2021-06-06 03:00:00\n",
              "121  3178.724138  3157.909245 2021-06-06 04:00:00\n",
              "\n",
              "[122 rows x 3 columns]"
            ]
          },
          "metadata": {},
          "execution_count": 15
        }
      ]
    },
    {
      "cell_type": "code",
      "metadata": {
        "colab": {
          "base_uri": "https://localhost:8080/"
        },
        "id": "LIA3CE4Ee63O",
        "outputId": "167bacb0-d48b-4916-db47-7e3f3212de24"
      },
      "source": [
        "print(df1.datetime.count())\n",
        "print(df1.Predicted.count())"
      ],
      "execution_count": null,
      "outputs": [
        {
          "output_type": "stream",
          "name": "stdout",
          "text": [
            "117\n",
            "122\n"
          ]
        }
      ]
    },
    {
      "cell_type": "code",
      "metadata": {
        "colab": {
          "base_uri": "https://localhost:8080/",
          "height": 304
        },
        "id": "49po7I0fw4N4",
        "outputId": "120185ff-8219-4839-90ae-1bd46d3aaf3b"
      },
      "source": [
        "plt.plot('Actual', data=df1, marker='o', markerfacecolor='blue', markersize=12, color='skyblue', linewidth=6)\n",
        "plt.plot('Predicted', data=df1, marker='p',markerfacecolor='olive', color='olive', linewidth=2)\n",
        "\n",
        "# plt.rcParams['figure.figsize'] = [30, 10]\n",
        "\n",
        "plt.xlabel(\"Compared instances of active power\")\n",
        "plt.ylabel(\"Active Power (KWatts)\")\n",
        "\n",
        "plt.legend()\n",
        "\n",
        "plt.show()\n",
        "\n"
      ],
      "execution_count": null,
      "outputs": [
        {
          "output_type": "display_data",
          "data": {
            "image/png": "[encoded data removed]",
            "text/plain": [
              "<Figure size 432x288 with 1 Axes>"
            ]
          },
          "metadata": {}
        }
      ]
    },
    {
      "cell_type": "code",
      "metadata": {
        "id": "WvwG-B1icgfi"
      },
      "source": [
        "test_features_df=pd.DataFrame(test_features, columns=features_with_cols.columns)\n",
        "test_features_df['predicted']=df1['Predicted']\n",
        "\n",
        "test_features_df['datetime']=(pd.to_datetime(test_features_df['timestamp'],unit='s'))\n",
        "# test_features_df['datetime'] = test_features_df['datetime'].apply(lambda dt: datetime.datetime(dt.year, dt.month, dt.day, dt.hour,1*(dt.minute // 1)))\n",
        "test_features_df['timestamp'] = test_features_df['datetime'].astype('int64')\n",
        "\n",
        "test_features_df['timestamp']=test_features_df['timestamp'].floordiv(1000000000)\n",
        "\n",
        "test_features_df['hour']=test_features_df.datetime.dt.hour\n",
        "\n",
        "test_features_df.hour=test_features_df.hour.astype(int)\n",
        "test_features_df.weatherCode=test_features_df.weatherCode.astype(int)\n",
        "\n"
      ],
      "execution_count": null,
      "outputs": []
    },
    {
      "cell_type": "code",
      "metadata": {
        "colab": {
          "base_uri": "https://localhost:8080/",
          "height": 419
        },
        "id": "C7a3m-NOdUo9",
        "outputId": "6cc3339c-e412-4ea3-e757-7f2d118a51a3"
      },
      "source": [
        "test_features_df"
      ],
      "execution_count": null,
      "outputs": [
        {
          "output_type": "execute_result",
          "data": {
            "text/html": [
              "<div>\n",
              "<style scoped>\n",
              "    .dataframe tbody tr th:only-of-type {\n",
              "        vertical-align: middle;\n",
              "    }\n",
              "\n",
              "    .dataframe tbody tr th {\n",
              "        vertical-align: top;\n",
              "    }\n",
              "\n",
              "    .dataframe thead th {\n",
              "        text-align: right;\n",
              "    }\n",
              "</style>\n",
              "<table border=\"1\" class=\"dataframe\">\n",
              "  <thead>\n",
              "    <tr style=\"text-align: right;\">\n",
              "      <th></th>\n",
              "      <th>timestamp</th>\n",
              "      <th>climacell</th>\n",
              "      <th>temp_air</th>\n",
              "      <th>windSpeed</th>\n",
              "      <th>weatherCode</th>\n",
              "      <th>altidute</th>\n",
              "      <th>hour</th>\n",
              "      <th>predicted</th>\n",
              "      <th>datetime</th>\n",
              "    </tr>\n",
              "  </thead>\n",
              "  <tbody>\n",
              "    <tr>\n",
              "      <th>0</th>\n",
              "      <td>1624089600</td>\n",
              "      <td>652.91</td>\n",
              "      <td>26.29</td>\n",
              "      <td>2.08</td>\n",
              "      <td>1102</td>\n",
              "      <td>53.317024</td>\n",
              "      <td>8</td>\n",
              "      <td>3187.094059</td>\n",
              "      <td>2021-06-19 08:00:00</td>\n",
              "    </tr>\n",
              "    <tr>\n",
              "      <th>1</th>\n",
              "      <td>1623603600</td>\n",
              "      <td>128.20</td>\n",
              "      <td>22.56</td>\n",
              "      <td>2.07</td>\n",
              "      <td>1001</td>\n",
              "      <td>10.120813</td>\n",
              "      <td>17</td>\n",
              "      <td>56.432087</td>\n",
              "      <td>2021-06-13 17:00:00</td>\n",
              "    </tr>\n",
              "    <tr>\n",
              "      <th>2</th>\n",
              "      <td>1624359600</td>\n",
              "      <td>866.68</td>\n",
              "      <td>33.88</td>\n",
              "      <td>2.80</td>\n",
              "      <td>1100</td>\n",
              "      <td>73.643243</td>\n",
              "      <td>11</td>\n",
              "      <td>2985.848358</td>\n",
              "      <td>2021-06-22 11:00:00</td>\n",
              "    </tr>\n",
              "    <tr>\n",
              "      <th>3</th>\n",
              "      <td>1622908800</td>\n",
              "      <td>336.78</td>\n",
              "      <td>23.08</td>\n",
              "      <td>2.41</td>\n",
              "      <td>1101</td>\n",
              "      <td>20.498933</td>\n",
              "      <td>16</td>\n",
              "      <td>312.337188</td>\n",
              "      <td>2021-06-05 16:00:00</td>\n",
              "    </tr>\n",
              "    <tr>\n",
              "      <th>4</th>\n",
              "      <td>1623834000</td>\n",
              "      <td>839.86</td>\n",
              "      <td>25.46</td>\n",
              "      <td>3.10</td>\n",
              "      <td>1000</td>\n",
              "      <td>64.196235</td>\n",
              "      <td>9</td>\n",
              "      <td>3621.611040</td>\n",
              "      <td>2021-06-16 09:00:00</td>\n",
              "    </tr>\n",
              "    <tr>\n",
              "      <th>...</th>\n",
              "      <td>...</td>\n",
              "      <td>...</td>\n",
              "      <td>...</td>\n",
              "      <td>...</td>\n",
              "      <td>...</td>\n",
              "      <td>...</td>\n",
              "      <td>...</td>\n",
              "      <td>...</td>\n",
              "      <td>...</td>\n",
              "    </tr>\n",
              "    <tr>\n",
              "      <th>117</th>\n",
              "      <td>1624946400</td>\n",
              "      <td>318.03</td>\n",
              "      <td>27.11</td>\n",
              "      <td>0.30</td>\n",
              "      <td>1000</td>\n",
              "      <td>29.675736</td>\n",
              "      <td>6</td>\n",
              "      <td>1735.881633</td>\n",
              "      <td>2021-06-29 06:00:00</td>\n",
              "    </tr>\n",
              "    <tr>\n",
              "      <th>118</th>\n",
              "      <td>1622552400</td>\n",
              "      <td>718.67</td>\n",
              "      <td>23.37</td>\n",
              "      <td>6.17</td>\n",
              "      <td>1102</td>\n",
              "      <td>54.576421</td>\n",
              "      <td>13</td>\n",
              "      <td>2471.598781</td>\n",
              "      <td>2021-06-01 13:00:00</td>\n",
              "    </tr>\n",
              "    <tr>\n",
              "      <th>119</th>\n",
              "      <td>1622894400</td>\n",
              "      <td>876.92</td>\n",
              "      <td>27.02</td>\n",
              "      <td>4.58</td>\n",
              "      <td>1001</td>\n",
              "      <td>65.418160</td>\n",
              "      <td>12</td>\n",
              "      <td>3380.050113</td>\n",
              "      <td>2021-06-05 12:00:00</td>\n",
              "    </tr>\n",
              "    <tr>\n",
              "      <th>120</th>\n",
              "      <td>1625050800</td>\n",
              "      <td>948.74</td>\n",
              "      <td>39.27</td>\n",
              "      <td>3.79</td>\n",
              "      <td>1000</td>\n",
              "      <td>73.458266</td>\n",
              "      <td>11</td>\n",
              "      <td>3051.702370</td>\n",
              "      <td>2021-06-30 11:00:00</td>\n",
              "    </tr>\n",
              "    <tr>\n",
              "      <th>121</th>\n",
              "      <td>1624698000</td>\n",
              "      <td>820.81</td>\n",
              "      <td>36.19</td>\n",
              "      <td>2.26</td>\n",
              "      <td>1000</td>\n",
              "      <td>63.824798</td>\n",
              "      <td>9</td>\n",
              "      <td>3157.909245</td>\n",
              "      <td>2021-06-26 09:00:00</td>\n",
              "    </tr>\n",
              "  </tbody>\n",
              "</table>\n",
              "<p>122 rows × 9 columns</p>\n",
              "</div>"
            ],
            "text/plain": [
              "      timestamp  climacell  temp_air  ...  hour    predicted            datetime\n",
              "0    1624089600     652.91     26.29  ...     8  3187.094059 2021-06-19 08:00:00\n",
              "1    1623603600     128.20     22.56  ...    17    56.432087 2021-06-13 17:00:00\n",
              "2    1624359600     866.68     33.88  ...    11  2985.848358 2021-06-22 11:00:00\n",
              "3    1622908800     336.78     23.08  ...    16   312.337188 2021-06-05 16:00:00\n",
              "4    1623834000     839.86     25.46  ...     9  3621.611040 2021-06-16 09:00:00\n",
              "..          ...        ...       ...  ...   ...          ...                 ...\n",
              "117  1624946400     318.03     27.11  ...     6  1735.881633 2021-06-29 06:00:00\n",
              "118  1622552400     718.67     23.37  ...    13  2471.598781 2021-06-01 13:00:00\n",
              "119  1622894400     876.92     27.02  ...    12  3380.050113 2021-06-05 12:00:00\n",
              "120  1625050800     948.74     39.27  ...    11  3051.702370 2021-06-30 11:00:00\n",
              "121  1624698000     820.81     36.19  ...     9  3157.909245 2021-06-26 09:00:00\n",
              "\n",
              "[122 rows x 9 columns]"
            ]
          },
          "metadata": {},
          "execution_count": 19
        }
      ]
    },
    {
      "cell_type": "code",
      "metadata": {
        "id": "NryR5atNoX9U"
      },
      "source": [
        "test_features_df.to_csv('rf_predicted.csv', index=False)\n",
        "\n",
        "!cp rf_predicted.csv \"drive/My Drive/alexakos-thesis/datasets\"\n"
      ],
      "execution_count": null,
      "outputs": []
    },
    {
      "cell_type": "code",
      "metadata": {
        "colab": {
          "base_uri": "https://localhost:8080/"
        },
        "id": "_GENq4gjPtrY",
        "outputId": "2fc6f9f9-7b5c-4895-c267-083c7b0974b8"
      },
      "source": [
        "import pickle\n",
        "\n",
        "filename = 'drive/My Drive/alexakos-thesis/datasets/random_forest.sav'\n",
        "pickle.dump(rf, open(filename, 'wb'))\n",
        "\n",
        "!cp random_forest.sav \"drive/My Drive/alexakos-thesis/datasets\"\n"
      ],
      "execution_count": null,
      "outputs": [
        {
          "output_type": "stream",
          "name": "stdout",
          "text": [
            "cp: cannot stat 'random_forest.sav': No such file or directory\n"
          ]
        }
      ]
    }
  ]
}